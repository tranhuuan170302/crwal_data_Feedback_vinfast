{
 "cells": [
  {
   "cell_type": "markdown",
   "metadata": {},
   "source": [
    "# Import library"
   ]
  },
  {
   "cell_type": "code",
   "execution_count": 1,
   "metadata": {},
   "outputs": [],
   "source": [
    "import pandas\n",
    "from email.base64mime import body_decode\n",
    "import encodings\n",
    "import requests\n",
    "import re\n",
    "import pandas as pd\n",
    "from openpyxl import Workbook"
   ]
  },
  {
   "cell_type": "code",
   "execution_count": 2,
   "metadata": {},
   "outputs": [],
   "source": [
    "# article link\n",
    "nameList = ['https://www.facebook.com/VinFastAuto.Official/posts/pfbid02HTpYTgnaPrv6NGC1a3SuHb98WaVDrB8uBBKYeCbR9ytqBY513ciCLy48GsPaKxjql?__cft__[0]=AZXtAJYDJkHsFvhkfGmfliajnVDCKinRtPdt3RBUId0N5n8EuzJ-57oovz6iB63l6TxqBs9m2TvBzy3426gYMr5JujJGZWylw2Wowp9xAdj8Cl9nVHV02Y09D-PPEGV2LgTEC229gSozLvCT5OVOmg24TThQk2cfHr5PUs5-nf2n8iYB2mprl1l2adDnElrYrF8&__tn__=%2CO%2CP-R',\n",
    "            'https://www.facebook.com/VinFastAuto.Official/posts/pfbid02HTpYTgnaPrv6NGC1a3SuHb98WaVDrB8uBBKYeCbR9ytqBY513ciCLy48GsPaKxjql?__cft__[0]=AZXtAJYDJkHsFvhkfGmfliajnVDCKinRtPdt3RBUId0N5n8EuzJ-57oovz6iB63l6TxqBs9m2TvBzy3426gYMr5JujJGZWylw2Wowp9xAdj8Cl9nVHV02Y09D-PPEGV2LgTEC229gSozLvCT5OVOmg24TThQk2cfHr5PUs5-nf2n8iYB2mprl1l2adDnElrYrF8&__tn__=%2CO%2CP-R',\n",
    "            'https://www.facebook.com/VinFastAuto.Official/posts/pfbid02Du5vp35CzHY3CxGTJTbvqcHEsTqbJCNm9GnhVrHdmEmmjc9qJh3V64tak5LRheXwl?__cft__[0]=AZUcWvcNcLH-PnUDpnE7g7-6DVtmlapz18LSdqDSTqI-PPwQr-mRTmeP1py3rxjwecfk40XNkqMdfNACU2RUmFsYx2dxfjqNO75Qz1owmMQMr8ADei_UqFsxoJ6nfVIXZu8669NcSaHkYwOYnla4BlPqplszRnTmx8a1n7-Kvv5kz8fEuSGplTQ2mQcGhYqyUYs&__tn__=%2CO%2CP-R',\n",
    "            'https://www.facebook.com/VinFastAuto.Official/posts/pfbid0qR7igwu4RAKu1YYot8ePMQW8i9VmPhJVkeXAgezht7btVTQJyqWENpVmpEhUwKNbl?__cft__[0]=AZWgEWDSfaJAzllS3g2M577tmAtMYCgOYrctCKFJ3OpP969KbzLT_ToLIFV9Js-UFUnlFIyEwG-xC5n1PlXaJTZLSwYivZ5j_Cc4wAxm8HTPOCxcIyDw9n6vNfr2-yxGxkGQkd21av0OaerIh_ySFWtjuq1uHp1Efmmf8dUjVAMG2s2kMmCxfiPG0x4rbNl8sN0&__tn__=%2CO%2CP-R',\n",
    "            'https://www.facebook.com/VinFastAuto.Official/posts/pfbid02DQui3kMMUBoYV62jEdB2GMpANL2GCa2xDrytQPdAF1VQuHC4BTmPR7Zt6uY7qM2wl?__cft__[0]=AZW4insxqhqv7E4BMoVc4vvSdY71doXJv4lSK5tB1bjIwrFqiDGDWFIGRXzFh8P0a7_Hi2N-iXEzhqUM-P_HMHVjrU8NlYPawLMFLBDWJYLOan-TtDpGZmd39DGnd9W8hawP0dKDkY_39OJkx6FdnnTIbJYlFPfyByh6oGjS5LMPzh3tMIxPvTTw0yGT_v3VsBU&__tn__=%2CO%2CP-R',\n",
    "            'https://www.facebook.com/VinFastAuto.Official/posts/pfbid02sq85yYZy9si4BrRz1WwTbYL4cvMPpcDZB44wFjVGTKc9uYVKKdZ4Xokj1eJMwc85l?__cft__[0]=AZW0_JlcGhHXYm9EKqCV2qrwr2FoB1TWTipyqHOG89LIti5B3d9QgM7o8-UYH4M4AqRpBWNQELkbC9qCjm55sBQmjG3cL-VXxjcRUdtHaISBoODBKGocFB6cv1mMTpKP_PGsSDQj017D1gavE1CAuikYaXiKnUMynRJ7xoJSeQnWB7nFGY3hPjitYNn9LH_C8BA&__tn__=%2CO%2CP-R',\n",
    "            'https://www.facebook.com/VinFastAuto.Official/posts/pfbid0ccNvEbwpaFA3dBZN5AF6TxKtJmuHcrxJ1ofAppU4DU7C6GCkF3wwJX1b5P7P11B2l?__cft__[0]=AZWLHr9vz9jTsAryl6SuX4ISy7SAb-nskSxBZ0rSkwxuMYXJIzqFxc5nhSY9A3eOwB-sxDmqJ0tT0jkupOB8SKqY1jElrx2eDL-2UBG47xaKkJRBNjvBYaGcCR6PZ2EMXB4WyRUnCyqxQXNwuLw-wUH0gTrf09UdSs1ukpgvJSZAR729PeVQ_FIFWFZRaShqMoU&__tn__=%2CO%2CP-R',\n",
    "            'https://www.facebook.com/VinFastAuto.Official/posts/pfbid02D3isnRw5N8yHGsZEKDg97VGRHJnUKShXck7QnQeXCUFRbR2VEYKpbfjybsg3bk9il?__cft__[0]=AZWMXISSaCF4FTfn5m9KMf4Aa3f3H2kZl8uGBrqKGXtvZ1ihqUbzzWEkx9nQbAn_Pm4tUnUsmxskughN3kfCYPmEwN_KCx5C0LBM1VveWnytafZHgk7MRGsUqhOK5kESnhBrEElmKOE1MXxFHImAobQz9_fTaiptgkKq-PdUQ_CyyZbvsZG35jf6HAtFCooUk10&__tn__=%2CO%2CP-R',\n",
    "            'https://www.facebook.com/VinFastAuto.Official/posts/pfbid02E8xNRmvatkEoMbZgRwcpNoNdqySg53PWCQDmBdicC63GSMu3BrDPv22B99gKQtYKl?__cft__[0]=AZXHxKKmmhIouoQh95gwF7Ivus1IR6_oY5iGQ19GcUqTgd90Pn0E33l6F2WxJKCmxXFUs672NveOgK2frs1RcrQ96UetSbziV9I3NxhB6f7iKTMKo8woaWzrn4M7Y-DrwTzWl5v92f23RcAeCtP0ml9wdWzq3EuBxZybPZTSi-Tfi2nhh1n9FBpvkrWD6UQbR9M&__tn__=%2CO%2CP-R']\n"
   ]
  },
  {
   "cell_type": "code",
   "execution_count": 3,
   "metadata": {},
   "outputs": [],
   "source": [
    "# dict save information article\n",
    "post = {\n",
    "    'title':'',\n",
    "    'time': '',\n",
    "    'arcticleBody': '',\n",
    "    'comment': ''\n",
    "}"
   ]
  },
  {
   "cell_type": "code",
   "execution_count": 4,
   "metadata": {},
   "outputs": [],
   "source": [
    "# list save dict 'post'\n",
    "dataset = []\n",
    "# append dict 'post' in dataset\n",
    "for name in nameList:\n",
    "    x = requests.get(name)\n",
    "    data = str(x.text)\n",
    "\n",
    "    title = data[data.find('<title id=\"pageTitle\">') : data.find('</title><script')]\n",
    "    articleBody = data[data.find(',\"articleBody\":'): data.find('\",\"url\"')]\n",
    "    time =  data[data.find('\"dateCreated\"'): data.find(',\"dateModified\"')]\n",
    "    comment = data[data.find('\"commentCount\"'): data.find(',\"caption\"')]\n",
    "\n",
    "    post['title'] = title\n",
    "    post['time'] = time\n",
    "    post['arcticleBody'] = articleBody\n",
    "    post['comment'] = comment\n",
    "\n",
    "    dataset.append(post)\n"
   ]
  },
  {
   "cell_type": "markdown",
   "metadata": {},
   "source": [
    "# <center>Read file convert unicode</center>\n",
    "+ cái dưới này thì t tách riêng chạy thủ công thì nó lại đc"
   ]
  },
  {
   "cell_type": "markdown",
   "metadata": {},
   "source": [
    "### file unicode3"
   ]
  },
  {
   "cell_type": "code",
   "execution_count": 197,
   "metadata": {},
   "outputs": [],
   "source": [
    "f = open(\"unicode3.txt\", \"r\", encoding='utf-8')\n",
    "unicode_table3 = f.read().split('\\n')\n",
    "f.close()"
   ]
  },
  {
   "cell_type": "code",
   "execution_count": 198,
   "metadata": {},
   "outputs": [],
   "source": [
    "chars3 = []\n",
    "codes3 = []\n",
    "for i in range(len(unicode_table3)):\n",
    "    x = unicode_table3[i].split('\\t')\n",
    "    chars3.append(x[1])\n",
    "    codes3.append(x[0])"
   ]
  },
  {
   "cell_type": "code",
   "execution_count": 199,
   "metadata": {},
   "outputs": [],
   "source": [
    "for item in range(len(dataset)):\n",
    "    for i in range(len(unicode_table3)):\n",
    "        dataset[item]['title'] = dataset[item]['title'].replace(codes3[i], chars3[i])\n",
    "        dataset[item]['time'] = dataset[item]['time'].replace(codes3[i], chars3[i])\n",
    "        dataset[item]['arcticleBody'] = dataset[item]['arcticleBody'].replace(codes3[i], chars3[i])\n",
    "        dataset[item]['comment'] = dataset[item]['comment'].replace(codes3[i], chars3[i])"
   ]
  },
  {
   "cell_type": "markdown",
   "metadata": {},
   "source": [
    "### File unicode"
   ]
  },
  {
   "cell_type": "code",
   "execution_count": 200,
   "metadata": {},
   "outputs": [],
   "source": [
    "f = open(\"unicode.txt\", \"r\", encoding='utf-8')\n",
    "unicode_table = f.read().split('\\n')\n",
    "f.close()"
   ]
  },
  {
   "cell_type": "code",
   "execution_count": 201,
   "metadata": {},
   "outputs": [],
   "source": [
    "chars = []\n",
    "codes = []\n",
    "for i in range(len(unicode_table)):\n",
    "    x = unicode_table[i].split('\\t')\n",
    "    x[0] = x[0].lower()\n",
    "    chars.append(x[1])\n",
    "    codes.append(x[0])"
   ]
  },
  {
   "cell_type": "code",
   "execution_count": 202,
   "metadata": {},
   "outputs": [],
   "source": [
    "for item in range(len(dataset)):\n",
    "    for i in range(len(unicode_table)):\n",
    "        dataset[item]['title'] = dataset[item]['title'].replace(codes[i], chars[i])\n",
    "        dataset[item]['time'] = dataset[item]['time'].replace(codes[i], chars[i])\n",
    "        dataset[item]['arcticleBody'] = dataset[item]['arcticleBody'].replace(codes[i], chars[i])\n",
    "        dataset[item]['comment'] = dataset[item]['comment'].replace(codes[i], chars[i])"
   ]
  },
  {
   "cell_type": "markdown",
   "metadata": {},
   "source": [
    "### File unicode1"
   ]
  },
  {
   "cell_type": "code",
   "execution_count": 203,
   "metadata": {},
   "outputs": [],
   "source": [
    "f = open(\"unicode1.txt\", \"r\", encoding='utf-8')\n",
    "unicode_table1 = f.read().split('\\n')\n",
    "f.close()"
   ]
  },
  {
   "cell_type": "code",
   "execution_count": 204,
   "metadata": {},
   "outputs": [],
   "source": [
    "chars1 = []\n",
    "codes1 = []\n",
    "for i in range(len(unicode_table1)):\n",
    "    x = unicode_table1[i].split('\\t')\n",
    "    x[0] = x[0].lower()\n",
    "    chars1.append(x[1])\n",
    "    codes1.append(x[0])"
   ]
  },
  {
   "cell_type": "code",
   "execution_count": 206,
   "metadata": {},
   "outputs": [],
   "source": [
    "for item in range(len(dataset)):\n",
    "    for i in range(len(unicode_table1)):\n",
    "        dataset[item]['title'] = dataset[item]['title'].replace(codes1[i], chars1[i])\n",
    "        dataset[item]['time'] = dataset[item]['time'].replace(codes1[i], chars1[i])\n",
    "        dataset[item]['arcticleBody'] = dataset[item]['arcticleBody'].replace(codes1[i], chars1[i])\n",
    "        dataset[item]['comment'] = dataset[item]['comment'].replace(codes1[i], chars1[i])"
   ]
  },
  {
   "cell_type": "markdown",
   "metadata": {},
   "source": [
    "### File unicode2"
   ]
  },
  {
   "cell_type": "code",
   "execution_count": 207,
   "metadata": {},
   "outputs": [],
   "source": [
    "f = open(\"unicode2.txt\", \"r\", encoding='utf-8')\n",
    "unicode_table2 = f.read().split('\\n')\n",
    "f.close()"
   ]
  },
  {
   "cell_type": "code",
   "execution_count": 208,
   "metadata": {},
   "outputs": [],
   "source": [
    "chars2 = []\n",
    "codes2 = []\n",
    "for i in range(len(unicode_table2)):\n",
    "    x = unicode_table2[i].split('\\t')\n",
    "    x[0] = x[0].lower()\n",
    "    chars2.append(x[1])\n",
    "    codes2.append(x[0])"
   ]
  },
  {
   "cell_type": "code",
   "execution_count": 209,
   "metadata": {},
   "outputs": [],
   "source": [
    "for item in range(len(dataset)):\n",
    "    for i in range(len(unicode_table2)):\n",
    "        dataset[item]['title'] = dataset[item]['title'].replace(codes2[i], chars2[i])\n",
    "        dataset[item]['time'] = dataset[item]['time'].replace(codes2[i], chars2[i])\n",
    "        dataset[item]['arcticleBody'] = dataset[item]['arcticleBody'].replace(codes2[i], chars2[i])\n",
    "        dataset[item]['comment'] = dataset[item]['comment'].replace(codes2[i], chars2[i])"
   ]
  },
  {
   "cell_type": "markdown",
   "metadata": {},
   "source": [
    "### File unicode4"
   ]
  },
  {
   "cell_type": "code",
   "execution_count": 210,
   "metadata": {},
   "outputs": [],
   "source": [
    "f = open(\"unicode4.txt\", \"r\", encoding='utf-8')\n",
    "unicode_table4 = f.read().split('\\n')\n",
    "f.close()"
   ]
  },
  {
   "cell_type": "code",
   "execution_count": 211,
   "metadata": {},
   "outputs": [],
   "source": [
    "chars4 = []\n",
    "codes4 = []\n",
    "for i in range(len(unicode_table4)):\n",
    "    x = unicode_table4[i].split('\\t')\n",
    "    x[0] = x[0].lower()\n",
    "    chars4.append(x[1])\n",
    "    codes4.append(x[0])"
   ]
  },
  {
   "cell_type": "code",
   "execution_count": 212,
   "metadata": {},
   "outputs": [],
   "source": [
    "for item in range(len(dataset)):\n",
    "    for i in range(len(unicode_table4)):\n",
    "        dataset[item]['title'] = dataset[item]['title'].replace(codes4[i], chars4[i])\n",
    "        dataset[item]['time'] = dataset[item]['time'].replace(codes4[i], chars4[i])\n",
    "        dataset[item]['arcticleBody'] = dataset[item]['arcticleBody'].replace(codes4[i], chars4[i])\n",
    "        dataset[item]['comment'] = dataset[item]['comment'].replace(codes4[i], chars4[i])"
   ]
  },
  {
   "cell_type": "markdown",
   "metadata": {},
   "source": [
    "### Function\n",
    "+ khi t bỏ vào hàm thì nó lại không ra kêt quả t muốn"
   ]
  },
  {
   "cell_type": "code",
   "execution_count": null,
   "metadata": {},
   "outputs": [],
   "source": [
    "def readFile(string):\n",
    "    f = open(string, \"r\", encoding='utf-8')\n",
    "    unicode_table = f.read().split('\\n')\n",
    "    f.close()"
   ]
  },
  {
   "cell_type": "code",
   "execution_count": 37,
   "metadata": {},
   "outputs": [],
   "source": [
    "def convertCodesTochars(string, dataset):\n",
    "    f = open(string, \"r\", encoding='utf-8')\n",
    "    unicode_table = f.read().split('\\n')\n",
    "    f.close()\n",
    "    \n",
    "    # classification code and character\n",
    "    chars = []\n",
    "    codes = []\n",
    "    for i in range(len(unicode_table)):\n",
    "        x = unicode_table[i].split('\\t')\n",
    "        x[0] = x[0].lower()\n",
    "        chars.append(x[1])\n",
    "        codes.append(x[0])\n",
    "    #print(codes, chars)\n",
    "    # # convert code to character\n",
    "    for item in range(len(dataset)):\n",
    "        for i in range(len(string)):\n",
    "            dataset[item]['title'] = dataset[item]['title'].replace(codes[i], chars[i])\n",
    "            dataset[item]['time'] = dataset[item]['time'].replace(codes[i], chars[i])\n",
    "            dataset[item]['arcticleBody'] = dataset[item]['arcticleBody'].replace(codes[i], chars[i])\n",
    "            dataset[item]['comment'] = dataset[item]['comment'].replace(codes[i], chars[i])\n",
    "    return dataset"
   ]
  },
  {
   "cell_type": "code",
   "execution_count": 38,
   "metadata": {},
   "outputs": [],
   "source": [
    "nameFileText = ['unicode.txt', 'unicode1.txt', 'unicode2.txt', 'unicode3.txt', 'unicode4.txt']\n",
    "for i in nameFileText:\n",
    "    convertCodesTochars(i, dataset)\n",
    "    "
   ]
  },
  {
   "cell_type": "markdown",
   "metadata": {},
   "source": [
    "# <center>convert character to unicode</center>"
   ]
  },
  {
   "cell_type": "markdown",
   "metadata": {},
   "source": [
    "# Add file dataset.txt "
   ]
  },
  {
   "cell_type": "code",
   "execution_count": 215,
   "metadata": {},
   "outputs": [],
   "source": [
    "# f = open(\"dataset.txt\", \"w\", encoding='utf-16')\n",
    "# f.write(dataset)\n",
    "# f.close()"
   ]
  },
  {
   "cell_type": "code",
   "execution_count": 42,
   "metadata": {},
   "outputs": [],
   "source": [
    "#dataset[0]['title']"
   ]
  },
  {
   "cell_type": "code",
   "execution_count": 41,
   "metadata": {},
   "outputs": [],
   "source": [
    "#print(dataset[0]['arcticleBody'])"
   ]
  },
  {
   "cell_type": "code",
   "execution_count": 40,
   "metadata": {},
   "outputs": [],
   "source": [
    "#dataset[0]['time']"
   ]
  },
  {
   "cell_type": "code",
   "execution_count": 39,
   "metadata": {},
   "outputs": [],
   "source": [
    "#dataset[0]['comment']"
   ]
  },
  {
   "cell_type": "code",
   "execution_count": null,
   "metadata": {},
   "outputs": [],
   "source": []
  }
 ],
 "metadata": {
  "kernelspec": {
   "display_name": "Python 3.10.5 64-bit",
   "language": "python",
   "name": "python3"
  },
  "language_info": {
   "codemirror_mode": {
    "name": "ipython",
    "version": 3
   },
   "file_extension": ".py",
   "mimetype": "text/x-python",
   "name": "python",
   "nbconvert_exporter": "python",
   "pygments_lexer": "ipython3",
   "version": "3.10.5"
  },
  "orig_nbformat": 4,
  "vscode": {
   "interpreter": {
    "hash": "26de051ba29f2982a8de78e945f0abaf191376122a1563185a90213a26c5da77"
   }
  }
 },
 "nbformat": 4,
 "nbformat_minor": 2
}
